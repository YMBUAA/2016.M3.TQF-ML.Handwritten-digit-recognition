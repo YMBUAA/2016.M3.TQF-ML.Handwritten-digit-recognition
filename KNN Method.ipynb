{
 "cells": [
  {
   "cell_type": "markdown",
   "metadata": {},
   "source": [
    "Read the data and KNN"
   ]
  },
  {
   "cell_type": "markdown",
   "metadata": {},
   "source": [
    "read the data"
   ]
  },
  {
   "cell_type": "code",
   "execution_count": 1,
   "metadata": {
    "collapsed": true
   },
   "outputs": [],
   "source": [
    "import numpy as np\n",
    "import os\n",
    "import matplotlib.pyplot as plt\n",
    "\n",
    "datasets_dir = 'media/datasets/'\n",
    "\n",
    "def one_hot(x,n):\n",
    "\tif type(x) == list:\n",
    "\t\tx = np.array(x)\n",
    "\tx = x.flatten()\n",
    "\to_h = np.zeros((len(x),n))\n",
    "\to_h[np.arange(len(x)),x] = 1\n",
    "\treturn o_h\n",
    "\n",
    "def mnist(ntrain=60000,ntest=10000,onehot=True):\n",
    "\tdata_dir = os.path.join(datasets_dir,'mnist/')\n",
    "\tfd = open(\"train-images.idx3-ubyte\", 'rb')\n",
    "\tloaded = np.fromfile(file=fd,dtype=np.uint8)\n",
    "\ttrX = loaded[16:].reshape((60000,28*28)).astype(float)\n",
    "\n",
    "\tfd = open(\"train-labels.idx1-ubyte\", 'rb')\n",
    "\tloaded = np.fromfile(file=fd,dtype=np.uint8)\n",
    "\ttrY = loaded[8:].reshape((60000))\n",
    "\n",
    "\tfd = open(\"t10k-images.idx3-ubyte\", 'rb')\n",
    "\tloaded = np.fromfile(file=fd,dtype=np.uint8)\n",
    "\tteX = loaded[16:].reshape((10000,28*28)).astype(float)\n",
    "\n",
    "\tfd = open(\"t10k-labels.idx1-ubyte\", 'rb')\n",
    "\tloaded = np.fromfile(file=fd,dtype=np.uint8)\n",
    "\tteY = loaded[8:].reshape((10000))\n",
    "\n",
    "\ttrX = trX/255.\n",
    "\tteX = teX/255.\n",
    "\n",
    "\ttrX = trX[:ntrain]\n",
    "\ttrY = trY[:ntrain]\n",
    "\n",
    "\tteX = teX[:ntest]\n",
    "\tteY = teY[:ntest]\n",
    "\n",
    "\tif onehot:\n",
    "\t\ttrY = one_hot(trY, 10)\n",
    "\t\tteY = one_hot(teY, 10)\n",
    "\telse:\n",
    "\t\ttrY = np.asarray(trY)\n",
    "\t\tteY = np.asarray(teY)\n",
    "\n",
    "\treturn trX,teX,trY,teY\n",
    "\n",
    "Xtrain, Xtest, Ytrain, Ytest = mnist()"
   ]
  },
  {
   "cell_type": "markdown",
   "metadata": {},
   "source": [
    "KNN Method"
   ]
  },
  {
   "cell_type": "code",
   "execution_count": 2,
   "metadata": {
    "collapsed": false
   },
   "outputs": [
    {
     "name": "stdout",
     "output_type": "stream",
     "text": [
      "\n",
      "Preparing Classifier Training and Testing Data...\n",
      "\n",
      "KNN Classifier with n_neighbors = 5, algorithm = auto, n_jobs = 10\n",
      "\n",
      "Pickling the Classifier for Future Use...\n",
      "\n",
      "Calculating Accuracy of trained Classifier...\n",
      "\n",
      "Making Predictions on Testing Data...\n",
      "\n",
      "Calculating Accuracy of Predictions...\n",
      "\n",
      "Calculating Confusion Matrix...\n",
      "\n",
      "KNN Trained Classifier Accuracy:  0.978833333333\n",
      "\n",
      "Predicted Values:  [7 2 1 ..., 4 5 6]\n",
      "\n",
      "Confusion Matrix:\n",
      " [[ 974    1    1    0    0    0    2    1    1    0]\n",
      " [   0 1133    2    0    0    0    0    0    0    0]\n",
      " [  10   13  983    3    2    0    1   16    4    0]\n",
      " [   0    3    2  979    1   12    1    6    4    2]\n",
      " [   2    8    0    0  942    0    4    2    1   23]\n",
      " [   5    0    0   15    1  858    4    2    2    5]\n",
      " [   6    3    0    0    3    2  944    0    0    0]\n",
      " [   0   25    4    0    2    0    0  986    0   11]\n",
      " [   8    4    6   14    7   15    2    6  907    5]\n",
      " [   7    6    2    9    7    3    1   11    2  961]]\n",
      "\n",
      "Accuracy of Classifier on Test Images:  0.9667\n"
     ]
    }
   ],
   "source": [
    "import matplotlib.pyplot as plt\n",
    "\n",
    "from sklearn import cross_validation\n",
    "from sklearn.neighbors import KNeighborsClassifier\n",
    "from sklearn.metrics import accuracy_score\n",
    "\n",
    "import numpy as np\n",
    "import pickle\n",
    "\n",
    "\n",
    "\n",
    "\"\"\"\n",
    "#Features\n",
    "X = train_img\n",
    "\n",
    "#Labels\n",
    "y = train_labels\n",
    "\"\"\"\n",
    "print('\\nPreparing Classifier Training and Testing Data...')\n",
    "Xtrain, Xtest, Ytrain, Ytest = cross_validation.train_test_split(Xtrain,Ytrain,test_size=0.1)\n",
    "\n",
    "\n",
    "print('\\nKNN Classifier with n_neighbors = 5, algorithm = auto, n_jobs = 10')\n",
    "print('\\nPickling the Classifier for Future Use...')\n",
    "clf = KNeighborsClassifier(n_neighbors=5,algorithm='auto',n_jobs=10)\n",
    "clf.fit(Xtrain,Ytrain)\n",
    "\n",
    "with open('MNIST_KNN.pickle','wb') as f:\n",
    "\tpickle.dump(clf, f)\n",
    "\n",
    "pickle_in = open('MNIST_KNN.pickle','rb')\n",
    "clf = pickle.load(pickle_in)\n",
    "\n",
    "print('\\nCalculating Accuracy of trained Classifier...')\n",
    "acc = clf.score(Xtest,Ytest)\n",
    "\n",
    "print('\\nMaking Predictions on Testing Data...')\n",
    "pred = clf.predict(Xtest)\n",
    "\n",
    "print('\\nCalculating Accuracy of Predictions...')\n",
    "accuracy = accuracy_score(Ytest, pred)\n",
    "\n",
    "print('\\nCalculating Confusion Matrix...')\n",
    "preds = net1.predict(Xtest)  \n",
    "cm = confusion_matrix(Ytest, preds)\n",
    "\n",
    "print('\\nKNN Trained Classifier Accuracy: ',acc)\n",
    "print('\\nPredicted Values: ',pred)\n",
    "print('\\nConfusion Matrix: ',cm)\n",
    "print('\\nAccuracy of Classifier on Test Images: ',accuracy)"
   ]
  },
  {
   "cell_type": "code",
   "execution_count": null,
   "metadata": {
    "collapsed": true
   },
   "outputs": [],
   "source": []
  }
 ],
 "metadata": {
  "kernelspec": {
   "display_name": "Python 3",
   "language": "python",
   "name": "python3"
  },
  "language_info": {
   "codemirror_mode": {
    "name": "ipython",
    "version": 3
   },
   "file_extension": ".py",
   "mimetype": "text/x-python",
   "name": "python",
   "nbconvert_exporter": "python",
   "pygments_lexer": "ipython3",
   "version": "3.5.1"
  }
 },
 "nbformat": 4,
 "nbformat_minor": 0
}
