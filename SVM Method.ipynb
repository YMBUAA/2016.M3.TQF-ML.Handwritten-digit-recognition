{
 "cells": [
  {
   "cell_type": "markdown",
   "metadata": {},
   "source": [
    "Classify data with SVM method"
   ]
  },
  {
   "cell_type": "markdown",
   "metadata": {},
   "source": [
    "read the data"
   ]
  },
  {
   "cell_type": "code",
   "execution_count": 1,
   "metadata": {
    "collapsed": true
   },
   "outputs": [],
   "source": [
    "import numpy as np\n",
    "import os\n",
    "import matplotlib.pyplot as plt\n",
    "\n",
    "datasets_dir = 'media/datasets/'\n",
    "\n",
    "def one_hot(x,n):\n",
    "\tif type(x) == list:\n",
    "\t\tx = np.array(x)\n",
    "\tx = x.flatten()\n",
    "\to_h = np.zeros((len(x),n))\n",
    "\to_h[np.arange(len(x)),x] = 1\n",
    "\treturn o_h\n",
    "\n",
    "def mnist(ntrain=60000,ntest=10000,onehot=False):\n",
    "\tdata_dir = os.path.join(datasets_dir,'mnist/')\n",
    "\tfd = open(\"train-images.idx3-ubyte\", 'rb')\n",
    "\tloaded = np.fromfile(file=fd,dtype=np.uint8)\n",
    "\ttrX = loaded[16:].reshape((60000,28*28)).astype(float)\n",
    "\n",
    "\tfd = open(\"train-labels.idx1-ubyte\", 'rb')\n",
    "\tloaded = np.fromfile(file=fd,dtype=np.uint8)\n",
    "\ttrY = loaded[8:].reshape((60000))\n",
    "\n",
    "\tfd = open(\"t10k-images.idx3-ubyte\", 'rb')\n",
    "\tloaded = np.fromfile(file=fd,dtype=np.uint8)\n",
    "\tteX = loaded[16:].reshape((10000,28*28)).astype(float)\n",
    "\n",
    "\tfd = open(\"t10k-labels.idx1-ubyte\", 'rb')\n",
    "\tloaded = np.fromfile(file=fd,dtype=np.uint8)\n",
    "\tteY = loaded[8:].reshape((10000))\n",
    "\n",
    "\ttrX = trX/255.\n",
    "\tteX = teX/255.\n",
    "\n",
    "\ttrX = trX[:ntrain]\n",
    "\ttrY = trY[:ntrain]\n",
    "\n",
    "\tteX = teX[:ntest]\n",
    "\tteY = teY[:ntest]\n",
    "\n",
    "\tif onehot:\n",
    "\t\ttrY = one_hot(trY, 10)\n",
    "\t\tteY = one_hot(teY, 10)\n",
    "\telse:\n",
    "\t\ttrY = np.asarray(trY)\n",
    "\t\tteY = np.asarray(teY)\n",
    "\n",
    "\treturn trX,teX,trY,teY\n",
    "\n",
    "Xtrain, Xtest, Ytrain, Ytest = mnist()"
   ]
  },
  {
   "cell_type": "markdown",
   "metadata": {},
   "source": [
    "SVM method"
   ]
  },
  {
   "cell_type": "code",
   "execution_count": 2,
   "metadata": {
    "collapsed": false
   },
   "outputs": [
    {
     "name": "stdout",
     "output_type": "stream",
     "text": [
      "\n",
      "Preparing Classifier Training and Testing Data...\n",
      "\n",
      "SVM Classifier with gamma = 0.1; Kernel = polynomial\n",
      "\n",
      "Pickling the Classifier for Future Use...\n",
      "\n",
      "Calculating Accuracy of trained Classifier...\n",
      "\n",
      "Making Predictions on Testing Data...\n",
      "\n",
      "Calculating Accuracy of Predictions...\n",
      "\n",
      "SVM Trained Classifier Accuracy:  0.999166666667\n",
      "\n",
      "Predicted Values:  [7 2 1 ..., 4 5 6]\n",
      "\n",
      "Confusion Matrix:\n",
      " [[ 972    0    1    1    0    3    1    0    2    0]\n",
      " [   0 1126    2    2    0    0    4    0    1    0]\n",
      " [   8    2 1007    0    2    0    4    5    4    0]\n",
      " [   0    2    1  987    0    6    0    4    5    5]\n",
      " [   3    0    1    0  966    0    3    0    0    9]\n",
      " [   2    0    0   12    1  864    4    1    6    2]\n",
      " [   4    5    1    0    3    5  938    0    2    0]\n",
      " [   0    9    9    1    1    0    0 1002    0    6]\n",
      " [   5    0    1    2    3    5    1    4  951    2]\n",
      " [   3    6    1    4    8    3    1    2    3  978]]\n",
      "\n",
      "Accuracy of Classifier on Test Images:  0.9791\n"
     ]
    }
   ],
   "source": [
    "import matplotlib.pyplot as plt\n",
    "\n",
    "from sklearn import cross_validation, svm, preprocessing\n",
    "from sklearn.metrics import accuracy_score\n",
    "\n",
    "import numpy as np\n",
    "import pickle\n",
    "\n",
    "# Prepare Classifier Training and Testing Data\n",
    "print('\\nPreparing Classifier Training and Testing Data...')\n",
    "Xtrain, Xtest, Ytrain, Ytest = cross_validation.train_test_split(Xtrain,Ytrain,test_size=0.1)\n",
    "\n",
    "\n",
    "# Pickle the Classifier for Future Use\n",
    "print('\\nSVM Classifier with gamma = 0.1; Kernel = polynomial')\n",
    "print('\\nPickling the Classifier for Future Use...')\n",
    "clf = svm.SVC(gamma=0.1, kernel='poly')\n",
    "clf.fit(Xtrain,Ytrain)\n",
    "\n",
    "with open('MNIST_SVM.pickle','wb') as f:\n",
    "\tpickle.dump(clf, f)\n",
    "\n",
    "pickle_in = open('MNIST_SVM.pickle','rb')\n",
    "clf = pickle.load(pickle_in)\n",
    "\n",
    "print('\\nCalculating Accuracy of trained Classifier...')\n",
    "acc = clf.score(Xtest,Ytest)\n",
    "\n",
    "print('\\nMaking Predictions on Testing Data...')\n",
    "pred = clf.predict(Xtest)\n",
    "\n",
    "print('\\nCalculating Accuracy of Predictions...')\n",
    "accuracy = accuracy_score(Ytest, pred)\n",
    "\n",
    "print('\\nCalculating Confusion Matrix...')\n",
    "preds = net1.predict(Xtest)  \n",
    "cm = confusion_matrix(Ytest, preds)\n",
    "\n",
    "print('\\nSVM Trained Classifier Accuracy: ',acc)\n",
    "print('\\nPredicted Values: ',pred)\n",
    "print('\\nConfusion Matrix: ',cm)\n",
    "print('\\nAccuracy of Classifier on Test Images: ',accuracy)"
   ]
  },
  {
   "cell_type": "code",
   "execution_count": null,
   "metadata": {
    "collapsed": true
   },
   "outputs": [],
   "source": []
  }
 ],
 "metadata": {
  "kernelspec": {
   "display_name": "Python 3",
   "language": "python",
   "name": "python3"
  },
  "language_info": {
   "codemirror_mode": {
    "name": "ipython",
    "version": 3
   },
   "file_extension": ".py",
   "mimetype": "text/x-python",
   "name": "python",
   "nbconvert_exporter": "python",
   "pygments_lexer": "ipython3",
   "version": "3.5.1"
  }
 },
 "nbformat": 4,
 "nbformat_minor": 0
}
